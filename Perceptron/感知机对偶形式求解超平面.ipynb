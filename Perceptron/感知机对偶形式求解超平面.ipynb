{
 "cells": [
  {
   "cell_type": "code",
   "execution_count": 1,
   "id": "8d8bad55",
   "metadata": {},
   "outputs": [],
   "source": [
    "import numpy as np"
   ]
  },
  {
   "cell_type": "code",
   "execution_count": 20,
   "id": "e37cc0df",
   "metadata": {},
   "outputs": [],
   "source": [
    "X=np.array([[3,3],[4,3],[1,1]])\n",
    "Y=np.array([1,1,-1])"
   ]
  },
  {
   "cell_type": "markdown",
   "id": "38456255",
   "metadata": {},
   "source": [
    "实现求解Gram矩阵函数"
   ]
  },
  {
   "cell_type": "code",
   "execution_count": 34,
   "id": "b3929363",
   "metadata": {},
   "outputs": [],
   "source": [
    "def compute_Gram(X):\n",
    "    N=X.shape[0]\n",
    "    G=np.zeros((N,N))\n",
    "    for i in range(N):\n",
    "        for j in range(N):\n",
    "            G[i][j]=np.dot(X[i],X[j])\n",
    "    return G"
   ]
  },
  {
   "cell_type": "markdown",
   "id": "81150161",
   "metadata": {},
   "source": [
    "验证一下Gram矩阵G"
   ]
  },
  {
   "cell_type": "code",
   "execution_count": 35,
   "id": "f48eeafe",
   "metadata": {},
   "outputs": [],
   "source": [
    "G=compute_Gram(X)"
   ]
  },
  {
   "cell_type": "code",
   "execution_count": 36,
   "id": "960196e3",
   "metadata": {},
   "outputs": [
    {
     "data": {
      "text/plain": [
       "array([[18., 21.,  6.],\n",
       "       [21., 25.,  7.],\n",
       "       [ 6.,  7.,  2.]])"
      ]
     },
     "execution_count": 36,
     "metadata": {},
     "output_type": "execute_result"
    }
   ],
   "source": [
    "G"
   ]
  },
  {
   "cell_type": "markdown",
   "id": "d6901f4f",
   "metadata": {},
   "source": [
    "接下来实现感知机对偶形式求解超平面函数"
   ]
  },
  {
   "cell_type": "code",
   "execution_count": 123,
   "id": "2bf35bbe",
   "metadata": {},
   "outputs": [],
   "source": [
    "def Train_w_b(X,Y):\n",
    "    G=compute_Gram(X)\n",
    "    N=X.shape[0]           #N为样本个数\n",
    "    a=np.zeros(N)\n",
    "    b=0\n",
    "    count=0#记录迭代次数\n",
    "    i=0\n",
    "    while i<N:\n",
    "        count+=1\n",
    "        for i in range(N):\n",
    "            if(Y[i]*(np.dot(a*Y,G[i])+b))<=0:\n",
    "                a[i]+=1\n",
    "                b+=Y[i]\n",
    "                break\n",
    "            else:       #遍历完全部样本而且都正确,这一次迭代不算，因为这一次没有任何修改，所以最后输出的迭代次数要-1\n",
    "                if i==N-1:\n",
    "                    return a,b,count-1"
   ]
  },
  {
   "cell_type": "code",
   "execution_count": 124,
   "id": "fe883a46",
   "metadata": {
    "scrolled": true
   },
   "outputs": [],
   "source": [
    "a,b,count=Train_w_b(X,Y)"
   ]
  },
  {
   "cell_type": "markdown",
   "id": "b2ebfd13",
   "metadata": {},
   "source": [
    "可以看到如下结果与答案一样，总迭代次数为7，求解的超平面参数w=[1,1],b=-3"
   ]
  },
  {
   "cell_type": "code",
   "execution_count": 125,
   "id": "5330a8bd",
   "metadata": {},
   "outputs": [
    {
     "data": {
      "text/plain": [
       "array([2., 0., 5.])"
      ]
     },
     "execution_count": 125,
     "metadata": {},
     "output_type": "execute_result"
    }
   ],
   "source": [
    "a"
   ]
  },
  {
   "cell_type": "code",
   "execution_count": 126,
   "id": "b4ed2d2a",
   "metadata": {},
   "outputs": [
    {
     "data": {
      "text/plain": [
       "-3"
      ]
     },
     "execution_count": 126,
     "metadata": {},
     "output_type": "execute_result"
    }
   ],
   "source": [
    "b"
   ]
  },
  {
   "cell_type": "code",
   "execution_count": 127,
   "id": "a82180f2",
   "metadata": {},
   "outputs": [
    {
     "data": {
      "text/plain": [
       "7"
      ]
     },
     "execution_count": 127,
     "metadata": {},
     "output_type": "execute_result"
    }
   ],
   "source": [
    "count"
   ]
  },
  {
   "cell_type": "code",
   "execution_count": 128,
   "id": "276d6145",
   "metadata": {},
   "outputs": [],
   "source": [
    "w=np.dot(a*Y,X)"
   ]
  },
  {
   "cell_type": "code",
   "execution_count": 129,
   "id": "04902124",
   "metadata": {},
   "outputs": [
    {
     "data": {
      "text/plain": [
       "array([1., 1.])"
      ]
     },
     "execution_count": 129,
     "metadata": {},
     "output_type": "execute_result"
    }
   ],
   "source": [
    "w"
   ]
  },
  {
   "cell_type": "code",
   "execution_count": null,
   "id": "6fc6ed12",
   "metadata": {},
   "outputs": [],
   "source": []
  }
 ],
 "metadata": {
  "kernelspec": {
   "display_name": "Python (envtf2)",
   "language": "python",
   "name": "envtf2"
  },
  "language_info": {
   "codemirror_mode": {
    "name": "ipython",
    "version": 3
   },
   "file_extension": ".py",
   "mimetype": "text/x-python",
   "name": "python",
   "nbconvert_exporter": "python",
   "pygments_lexer": "ipython3",
   "version": "3.9.0"
  }
 },
 "nbformat": 4,
 "nbformat_minor": 5
}
