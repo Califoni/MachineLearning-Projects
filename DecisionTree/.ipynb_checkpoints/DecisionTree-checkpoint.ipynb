{
 "cells": [
  {
   "cell_type": "markdown",
   "id": "80f79f99",
   "metadata": {},
   "source": [
    "### Implementation of DecisionTree"
   ]
  },
  {
   "cell_type": "code",
   "execution_count": 1,
   "id": "63cd6145",
   "metadata": {},
   "outputs": [],
   "source": [
    "import numpy as np\n",
    "import matplotlib.pyplot as plt\n",
    "from public_tests import *\n",
    "%matplotlib inline"
   ]
  },
  {
   "attachments": {
    "image-2.png": {
     "image/png": "[encoded data removed]"
    },
    "image.png": {
     "image/png": "[encoded data removed]"
    }
   },
   "cell_type": "markdown",
   "id": "791bc4a9",
   "metadata": {},
   "source": [
    "数据集解释如下：\n",
    "\n",
    "        此数据集为蘑菇特征数据集，蘑菇有3个特征，依此判断此蘑菇为可使用还是不可食用\n",
    "![image-2.png](attachment:image-2.png)\n",
    "![image.png](attachment:image.png)"
   ]
  },
  {
   "cell_type": "code",
   "execution_count": 2,
   "id": "7a266ab1",
   "metadata": {},
   "outputs": [],
   "source": [
    "X_train = np.array([[1,1,1],[1,0,1],[1,0,0],[1,0,0],[1,1,1],[0,1,1],[0,0,0],[1,0,1],[0,1,0],[1,0,0]])\n",
    "y_train = np.array([1,1,0,0,1,0,0,1,1,0])"
   ]
  },
  {
   "cell_type": "code",
   "execution_count": 3,
   "id": "090fc322",
   "metadata": {},
   "outputs": [
    {
     "name": "stdout",
     "output_type": "stream",
     "text": [
      "First few elements of X_train:\n",
      " [[1 1 1]\n",
      " [1 0 1]\n",
      " [1 0 0]\n",
      " [1 0 0]\n",
      " [1 1 1]]\n",
      "Type of X_train: <class 'numpy.ndarray'>\n"
     ]
    }
   ],
   "source": [
    "print(\"First few elements of X_train:\\n\", X_train[:5])\n",
    "print(\"Type of X_train:\",type(X_train))"
   ]
  },
  {
   "cell_type": "code",
   "execution_count": 4,
   "id": "89548df7",
   "metadata": {},
   "outputs": [
    {
     "name": "stdout",
     "output_type": "stream",
     "text": [
      "First few elements of y_train: [1 1 0 0 1]\n",
      "Type of y_train: <class 'numpy.ndarray'>\n"
     ]
    }
   ],
   "source": [
    "print(\"First few elements of y_train:\", y_train[:5])\n",
    "print(\"Type of y_train:\",type(y_train))"
   ]
  },
  {
   "cell_type": "code",
   "execution_count": 5,
   "id": "e1833068",
   "metadata": {},
   "outputs": [
    {
     "name": "stdout",
     "output_type": "stream",
     "text": [
      "The shape of X_train is: (10, 3)\n",
      "The shape of y_train is:  (10,)\n",
      "Number of training examples (m): 10\n"
     ]
    }
   ],
   "source": [
    "print ('The shape of X_train is:', X_train.shape)\n",
    "print ('The shape of y_train is: ', y_train.shape)\n",
    "print ('Number of training examples (m):', len(X_train))"
   ]
  },
  {
   "cell_type": "markdown",
   "id": "cf75c775",
   "metadata": {},
   "source": [
    "计算当前节点的信息熵"
   ]
  },
  {
   "cell_type": "code",
   "execution_count": 6,
   "id": "73b7bb82",
   "metadata": {},
   "outputs": [],
   "source": [
    "# UNQ_C1\n",
    "# GRADED FUNCTION: compute_entropy\n",
    "\n",
    "def compute_entropy(y):\n",
    "    \"\"\"\n",
    "    Computes the entropy for \n",
    "    \n",
    "    Args:\n",
    "       y (ndarray):\n",
    "       当前节点样本的标签\n",
    "       Numpy array indicating whether each example at a node is\n",
    "           edible (`1`) or poisonous (`0`)\n",
    "       \n",
    "    Returns:\n",
    "        entropy (float): Entropy at that node\n",
    "        \n",
    "    \"\"\"\n",
    "    # You need to return the following variables correctly\n",
    "    entropy = 0.\n",
    "    \n",
    "    ### START CODE HERE ###\n",
    "    \n",
    "    if len(y)!=0:\n",
    "        p1=len(y[y==1])/len(y)\n",
    "        if p1==0 or p1==1:\n",
    "            return 0\n",
    "        entropy= -p1*np.log2(p1)-(1-p1)*np.log2(1-p1)\n",
    "    else:\n",
    "        return 0\n",
    "    \n",
    "    ### END CODE HERE ###        \n",
    "    \n",
    "    return entropy"
   ]
  },
  {
   "cell_type": "code",
   "execution_count": 7,
   "id": "b6d24a24",
   "metadata": {},
   "outputs": [
    {
     "name": "stdout",
     "output_type": "stream",
     "text": [
      "Entropy at root node:  1.0\n",
      "\u001b[92m All tests passed.\n"
     ]
    }
   ],
   "source": [
    "# Compute entropy at the root node (i.e. with all examples)\n",
    "# Since we have 5 edible and 5 non-edible mushrooms, the entropy should be 1\"\n",
    "\n",
    "print(\"Entropy at root node: \", compute_entropy(y_train)) \n",
    "\n",
    "# UNIT TESTS\n",
    "compute_entropy_test(compute_entropy)"
   ]
  },
  {
   "cell_type": "markdown",
   "id": "1b62b148",
   "metadata": {},
   "source": [
    "划分节点产生左右子树"
   ]
  },
  {
   "cell_type": "code",
   "execution_count": 8,
   "id": "72343c27",
   "metadata": {},
   "outputs": [],
   "source": [
    "# UNQ_C2\n",
    "# GRADED FUNCTION: split_dataset\n",
    "#针对当前节点进行划分左右子集\n",
    "def split_dataset(X, node_indices, feature):\n",
    "    \"\"\"\n",
    "    Splits the data at the given node into\n",
    "    left and right branches\n",
    "    \n",
    "    Args:\n",
    "        X (ndarray):             Data matrix of shape(n_samples, n_features)\n",
    "        node_indices (ndarray):  List containing the active indices. I.e, the samples being considered at this step.\n",
    "        feature (int):           Index of feature to split on\n",
    "    \n",
    "    Returns:\n",
    "        left_indices (ndarray): Indices with feature value == 1\n",
    "        right_indices (ndarray): Indices with feature value == 0\n",
    "    \"\"\"\n",
    "    \n",
    "    # You need to return the following variables correctly\n",
    "    left_indices = []\n",
    "    right_indices = []\n",
    "    \n",
    "    ### START CODE HERE ###\n",
    "    \n",
    "    #遍历当前节点的所有数据\n",
    "    for index in node_indices:\n",
    "        #依据每个数据在特征feature上的表现进行左右子树划分\n",
    "        if X[index][feature]==1:\n",
    "            left_indices.append(index)\n",
    "        else:\n",
    "            right_indices.append(index)\n",
    "    \n",
    "    ### END CODE HERE ###\n",
    "        \n",
    "    return left_indices, right_indices"
   ]
  },
  {
   "cell_type": "code",
   "execution_count": 9,
   "id": "49fef34f",
   "metadata": {},
   "outputs": [
    {
     "name": "stdout",
     "output_type": "stream",
     "text": [
      "Left indices:  [0, 1, 2, 3, 4, 7, 9]\n",
      "Right indices:  [5, 6, 8]\n",
      "\u001b[92m All tests passed.\n"
     ]
    }
   ],
   "source": [
    "#构造根节点索引列表\n",
    "root_indices = [i for i in range(len(X_train))]\n",
    "\n",
    "# Feel free to play around with these variables\n",
    "# The dataset only has three features, so this value can be 0 (Brown Cap), 1 (Tapering Stalk Shape) or 2 (Solitary)\n",
    "feature = 0\n",
    "\n",
    "left_indices, right_indices = split_dataset(X_train, root_indices, feature)\n",
    "\n",
    "print(\"Left indices: \", left_indices)\n",
    "print(\"Right indices: \", right_indices)\n",
    "\n",
    "# UNIT TESTS    \n",
    "split_dataset_test(split_dataset)"
   ]
  },
  {
   "cell_type": "markdown",
   "id": "3dca087a",
   "metadata": {},
   "source": [
    "计算信息增益"
   ]
  },
  {
   "cell_type": "code",
   "execution_count": 10,
   "id": "ded7817e",
   "metadata": {},
   "outputs": [],
   "source": [
    "# UNQ_C3\n",
    "# GRADED FUNCTION: compute_information_gain\n",
    "#计算当前节点的信息增益\n",
    "def compute_information_gain(X, y, node_indices, feature):\n",
    "    \n",
    "    \"\"\"\n",
    "    Compute the information of splitting the node on a given feature\n",
    "    \n",
    "    Args:\n",
    "        X (ndarray):            Data matrix of shape(n_samples, n_features)\n",
    "        y (array like):         list or ndarray with n_samples containing the target variable\n",
    "        node_indices (ndarray): List containing the active indices. I.e, the samples being considered in this step.\n",
    "   \n",
    "    Returns:\n",
    "        cost (float):        Cost computed\n",
    "    \n",
    "    \"\"\"    \n",
    "    # Split dataset依据特征feature划分左右节点\n",
    "    left_indices, right_indices = split_dataset(X, node_indices, feature)\n",
    "    \n",
    "    # Some useful variables\n",
    "    X_node, y_node = X[node_indices], y[node_indices]\n",
    "    X_left, y_left = X[left_indices], y[left_indices]\n",
    "    X_right, y_right = X[right_indices], y[right_indices]\n",
    "    \n",
    "    # You need to return the following variables correctly\n",
    "    information_gain = 0\n",
    "    \n",
    "    ### START CODE HERE ###\n",
    "    \n",
    "    # 计算左右子节点权重\n",
    "    W_left=len(left_indices)/len(node_indices)\n",
    "    W_right=len(right_indices)/len(node_indices)\n",
    "   \n",
    "    #Weighted entropy\n",
    "    #计算左右子节点的信息熵\n",
    "    H_left=compute_entropy(y_left)\n",
    "    H_right=compute_entropy(y_right)\n",
    "    \n",
    "    W_H_left=W_left*H_left\n",
    "    W_H_right=W_right*H_right\n",
    "    \n",
    "    #Information gain                                                   \n",
    "    H=compute_entropy(y_node)\n",
    "    information_gain=H-(W_H_left+W_H_right)\n",
    "    ### END CODE HERE ###  \n",
    "    \n",
    "    return information_gain"
   ]
  },
  {
   "cell_type": "code",
   "execution_count": 11,
   "id": "1373e587",
   "metadata": {},
   "outputs": [
    {
     "name": "stdout",
     "output_type": "stream",
     "text": [
      "Information Gain from splitting the root on brown cap:  0.034851554559677034\n",
      "Information Gain from splitting the root on tapering stalk shape:  0.12451124978365313\n",
      "Information Gain from splitting the root on solitary:  0.2780719051126377\n",
      "\u001b[92m All tests passed.\n"
     ]
    }
   ],
   "source": [
    "info_gain0 = compute_information_gain(X_train, y_train, root_indices, feature=0)\n",
    "print(\"Information Gain from splitting the root on brown cap: \", info_gain0)\n",
    "    \n",
    "info_gain1 = compute_information_gain(X_train, y_train, root_indices, feature=1)\n",
    "print(\"Information Gain from splitting the root on tapering stalk shape: \", info_gain1)\n",
    "\n",
    "info_gain2 = compute_information_gain(X_train, y_train, root_indices, feature=2)\n",
    "print(\"Information Gain from splitting the root on solitary: \", info_gain2)\n",
    "\n",
    "# UNIT TESTS\n",
    "compute_information_gain_test(compute_information_gain)"
   ]
  },
  {
   "cell_type": "markdown",
   "id": "eff73e9c",
   "metadata": {},
   "source": [
    "实现最大信息增益划分节点"
   ]
  },
  {
   "cell_type": "code",
   "execution_count": 12,
   "id": "e5fd88bf",
   "metadata": {},
   "outputs": [],
   "source": [
    "# UNQ_C4\n",
    "# GRADED FUNCTION: get_best_split\n",
    "#对当前节点进行最大信息增益特征的选取\n",
    "def get_best_split(X, y, node_indices):   \n",
    "    \"\"\"\n",
    "    Returns the optimal feature and threshold value\n",
    "    to split the node data \n",
    "    \n",
    "    Args:\n",
    "        X (ndarray):            Data matrix of shape(n_samples, n_features)\n",
    "        y (array like):         list or ndarray with n_samples containing the target variable\n",
    "        node_indices (ndarray): List containing the active indices. I.e, the samples being considered in this step.\n",
    "\n",
    "    Returns:\n",
    "        best_feature (int):     The index of the best feature to split\n",
    "    \"\"\"    \n",
    "    \n",
    "    # Some useful variables\n",
    "    num_features = X.shape[1]\n",
    "    \n",
    "    # You need to return the following variables correctly\n",
    "    best_feature = -1\n",
    "    \n",
    "    ### START CODE HERE ###\n",
    "    \n",
    "    #最大信息增益\n",
    "    max_info_gain=0\n",
    "    \n",
    "    '''在此遍历全部特征即可寻找最优的下一个划分特征，无需避开之前使用过\n",
    "    的划分特征,因为当前节点全是之前划分节点的产物,比如父节点依据特征A划分，\n",
    "    当前节点为父节点的左子节点，特征A值全部为1，那么再次依据此特征划分，\n",
    "    所得的结果一边全部为当前节点照搬，另一边一个样本没有（因为当前节点没有\n",
    "    特征A值为0的样本，全是特征A值为1）,因此对于之前父节点使用过的划分特征\n",
    "    获得的信息增益为0，必然不会选\n",
    "    '''\n",
    "    for feature in range(num_features):\n",
    "        info_gain=compute_information_gain(X,y,node_indices,feature)\n",
    "        #发现更优的信息增益，进行更新\n",
    "        if info_gain>max_info_gain:\n",
    "            max_info_gain=info_gain\n",
    "            best_feature=feature\n",
    "    \n",
    "    ### END CODE HERE ##    \n",
    "   \n",
    "    return best_feature,max_info_gain"
   ]
  },
  {
   "cell_type": "code",
   "execution_count": 13,
   "id": "e3c8de0b",
   "metadata": {},
   "outputs": [
    {
     "name": "stdout",
     "output_type": "stream",
     "text": [
      "Best feature to split on: 2\n"
     ]
    },
    {
     "ename": "AssertionError",
     "evalue": "When the target variable is pure, there is no best split to do. Expected -1, got (-1, 0)",
     "output_type": "error",
     "traceback": [
      "\u001b[1;31m---------------------------------------------------------------------------\u001b[0m",
      "\u001b[1;31mAssertionError\u001b[0m                            Traceback (most recent call last)",
      "Cell \u001b[1;32mIn [13], line 5\u001b[0m\n\u001b[0;32m      2\u001b[0m \u001b[38;5;28mprint\u001b[39m(\u001b[38;5;124m\"\u001b[39m\u001b[38;5;124mBest feature to split on: \u001b[39m\u001b[38;5;132;01m%d\u001b[39;00m\u001b[38;5;124m\"\u001b[39m \u001b[38;5;241m%\u001b[39m best_feature)\n\u001b[0;32m      4\u001b[0m \u001b[38;5;66;03m# UNIT TESTS\u001b[39;00m\n\u001b[1;32m----> 5\u001b[0m get_best_split_test(get_best_split)\n",
      "File \u001b[1;32mF:\\jupyter notebook\\MachineLearning\\DecisionTree\\public_tests.py:122\u001b[0m, in \u001b[0;36mget_best_split_test\u001b[1;34m(target)\u001b[0m\n\u001b[0;32m    118\u001b[0m node_indexes \u001b[38;5;241m=\u001b[39m \u001b[38;5;28mlist\u001b[39m(\u001b[38;5;28mrange\u001b[39m(\u001b[38;5;241m5\u001b[39m))\n\u001b[0;32m    120\u001b[0m result \u001b[38;5;241m=\u001b[39m target(X, y, node_indexes)\n\u001b[1;32m--> 122\u001b[0m \u001b[38;5;28;01massert\u001b[39;00m result \u001b[38;5;241m==\u001b[39m \u001b[38;5;241m-\u001b[39m\u001b[38;5;241m1\u001b[39m, \u001b[38;5;124mf\u001b[39m\u001b[38;5;124m\"\u001b[39m\u001b[38;5;124mWhen the target variable is pure, there is no best split to do. Expected -1, got \u001b[39m\u001b[38;5;132;01m{\u001b[39;00mresult\u001b[38;5;132;01m}\u001b[39;00m\u001b[38;5;124m\"\u001b[39m\n\u001b[0;32m    124\u001b[0m y \u001b[38;5;241m=\u001b[39m X[:,\u001b[38;5;241m0\u001b[39m]\n\u001b[0;32m    125\u001b[0m result \u001b[38;5;241m=\u001b[39m target(X, y, node_indexes)\n",
      "\u001b[1;31mAssertionError\u001b[0m: When the target variable is pure, there is no best split to do. Expected -1, got (-1, 0)"
     ]
    }
   ],
   "source": [
    "best_feature,max_info_gain = get_best_split(X_train, y_train, root_indices)\n",
    "print(\"Best feature to split on: %d\" % best_feature)\n",
    "\n",
    "# UNIT TESTS\n",
    "get_best_split_test(get_best_split)"
   ]
  },
  {
   "cell_type": "markdown",
   "id": "f5c36784",
   "metadata": {},
   "source": [
    "构建完整的ID3决策树"
   ]
  },
  {
   "cell_type": "code",
   "execution_count": 15,
   "id": "3a09fe8b",
   "metadata": {},
   "outputs": [
    {
     "name": "stdout",
     "output_type": "stream",
     "text": [
      " 深度 0, 根节点: 划分特征: 2\n",
      "- 深度 1, 左子树: 划分特征: 0\n",
      "  -- 左子树 叶子节点的索引 [0, 1, 4, 7] 种类为 1\n",
      "  -- 右子树 叶子节点的索引 [5] 种类为 0\n",
      "- 深度 1, 右子树: 划分特征: 1\n",
      "  -- 左子树 叶子节点的索引 [8] 种类为 1\n",
      "  -- 右子树 叶子节点的索引 [2, 3, 6, 9] 种类为 0\n"
     ]
    }
   ],
   "source": [
    "#初始化决策树\n",
    "tree=[]\n",
    "Root=[]\n",
    "#构建决策树函数\n",
    "def build_tree_recursive(X,y,Root,node_indices,branch_name,max_depth,current_depth,threshold):\n",
    "    \"\"\"\n",
    "    使用递归构建决策树\n",
    "    Args:\n",
    "        X (ndarray):            Data matrix of shape(n_samples, n_features)\n",
    "        y (array like):         list or ndarray with n_samples containing the target variable\n",
    "        node_indices (ndarray): List containing the active indices. I.e, the samples being considered in this step.\n",
    "        branch_name (string):   Name of the branch. ['Root', 'Left', 'Right']\n",
    "        max_depth (int):        Max depth of the resulting tree. \n",
    "        current_depth (int):    Current depth. Parameter used during recursive call.\n",
    "   \n",
    "    \"\"\" \n",
    "    \n",
    "    # 先判断是否到达最大树深，若到达终止划分\n",
    "    if current_depth==max_depth:\n",
    "        formatting=\"  \"*current_depth+\"-\"*current_depth\n",
    "        print(formatting,\"%s 叶子节点的索引\"%branch_name,node_indices,\"种类为 %s\"%y_train[node_indices[0]])\n",
    "        #把当前叶子节点的分类结果存入树结构中\n",
    "        Root.append((\"种类为 %s\"%y_train[node_indices[0]]))\n",
    "        return\n",
    "    \n",
    "    # 于当前节点获取最大信息增益特征\n",
    "    best_feature,max_info_gain=get_best_split(X,y,node_indices)\n",
    "    \n",
    "    #若信息增益太小了不再划分\n",
    "    if max_info_gain<=threshold:\n",
    "        formatting=\" \"*current_depth+\"-\"*current_depth\n",
    "        print(formatting,\"%s 叶子节点的索引\"%branch_name,node_indices,\"种类为 %s\"%y_train[node_indices[0]])\n",
    "        #把当前叶子节点的分类结果存入树结构中\n",
    "        Root.append((\"种类为 %s\"%y_train[node_indices[0]]))\n",
    "        return \n",
    "    \n",
    "    #记录当前节点的划分特征\n",
    "    Root.append(best_feature)\n",
    "    #添加左子树和右子树节点\n",
    "    Root.append([])\n",
    "    Root.append([])\n",
    "    \n",
    "    tree.append([current_depth, branch_name, best_feature, node_indices])\n",
    "    formatting = \"-\"*current_depth\n",
    "    print(\"%s 深度 %d, %s: 划分特征: %d\" % (formatting, current_depth, branch_name, best_feature))\n",
    "    \n",
    "    #依据最大信息增益的特征划分当前数据集\n",
    "    left_indices,right_indices=split_dataset(X,node_indices,best_feature)\n",
    "    \n",
    "    \n",
    "    #递归对左右子树划分\n",
    "    build_tree_recursive(X,y,Root[1],left_indices,\"左子树\",max_depth,current_depth+1,threshold)\n",
    "    build_tree_recursive(X,y,Root[2],right_indices,\"右子树\",max_depth,current_depth+1,threshold)\n",
    "\n",
    "#构建决策树    \n",
    "build_tree_recursive(X_train,y_train,Root,root_indices,\"根节点\",max_depth=3,current_depth=0,threshold=1e-3)    "
   ]
  },
  {
   "cell_type": "code",
   "execution_count": 17,
   "id": "f6a940ff",
   "metadata": {},
   "outputs": [
    {
     "data": {
      "text/plain": [
       "[[0, '根节点', 2, [0, 1, 2, 3, 4, 5, 6, 7, 8, 9]],\n",
       " [1, '左子树', 0, [0, 1, 4, 5, 7]],\n",
       " [1, '右子树', 1, [2, 3, 6, 8, 9]]]"
      ]
     },
     "execution_count": 17,
     "metadata": {},
     "output_type": "execute_result"
    }
   ],
   "source": [
    "tree"
   ]
  },
  {
   "cell_type": "code",
   "execution_count": 18,
   "id": "5128a21b",
   "metadata": {},
   "outputs": [
    {
     "data": {
      "text/plain": [
       "array([1, 1, 0, 0, 1, 0, 0, 1, 1, 0])"
      ]
     },
     "execution_count": 18,
     "metadata": {},
     "output_type": "execute_result"
    }
   ],
   "source": [
    "y_train"
   ]
  },
  {
   "cell_type": "code",
   "execution_count": 158,
   "id": "658023b9",
   "metadata": {
    "scrolled": false
   },
   "outputs": [
    {
     "data": {
      "text/plain": [
       "[2, [0, ['种类为 1'], ['种类为 0']], [1, ['种类为 1'], ['种类为 0']]]"
      ]
     },
     "execution_count": 158,
     "metadata": {},
     "output_type": "execute_result"
    }
   ],
   "source": [
    "Root"
   ]
  },
  {
   "cell_type": "markdown",
   "id": "db1d0eba",
   "metadata": {},
   "source": [
    "### 决策树成功构建完毕，接下来通过决策树对不同的数据样本进行分类"
   ]
  },
  {
   "cell_type": "code",
   "execution_count": 107,
   "id": "93260481",
   "metadata": {},
   "outputs": [],
   "source": [
    "#利用决策树实现单样本分类\n",
    "def classification_One(x,Root,pos):\n",
    "    #传入需要预测的数据x,决策树的根节点Root\n",
    "    #首先判断Root[0]是否为特征值\n",
    "    if str.isdigit('%s'%Root[0]):\n",
    "        #当前特征的值为1进入左子树\n",
    "        if x[Root[0]]==1:\n",
    "            pos=Root[1]\n",
    "            pos=Test(x,Root[1],pos)\n",
    "        #当前特征的值为0进入右子树\n",
    "        else:\n",
    "            pos=Root[2]\n",
    "            pos=Test(x,Root[2],pos)\n",
    "    return pos"
   ]
  },
  {
   "cell_type": "code",
   "execution_count": 108,
   "id": "ac4362b7",
   "metadata": {},
   "outputs": [],
   "source": [
    "#实现多样本分类\n",
    "def Classification(X,Root):\n",
    "    res=[]\n",
    "    for x in X:\n",
    "        pos=classification_One(x,Root,[])\n",
    "        res.append(pos)\n",
    "    return res"
   ]
  },
  {
   "cell_type": "markdown",
   "id": "8a0ff1e6",
   "metadata": {},
   "source": [
    "构建三个测试数据集"
   ]
  },
  {
   "cell_type": "code",
   "execution_count": 109,
   "id": "a0876b20",
   "metadata": {},
   "outputs": [],
   "source": [
    "test_x1=np.array([0,0,1])\n",
    "test_x2=np.array([1,0,1])\n",
    "test_X=np.array([[1,1,1],[1,0,1],[1,0,0],[1,0,0],[1,1,1],[0,1,1],[0,0,0],[1,0,1],[0,1,0],[1,0,0]])"
   ]
  },
  {
   "cell_type": "code",
   "execution_count": 110,
   "id": "e81b6e66",
   "metadata": {},
   "outputs": [
    {
     "name": "stdout",
     "output_type": "stream",
     "text": [
      "['种类为 0']\n"
     ]
    }
   ],
   "source": [
    "pos1=[]\n",
    "pos1=classification_One(test_x1,Root,pos1)\n",
    "print(pos1)"
   ]
  },
  {
   "cell_type": "code",
   "execution_count": 111,
   "id": "856603de",
   "metadata": {},
   "outputs": [
    {
     "name": "stdout",
     "output_type": "stream",
     "text": [
      "['种类为 1']\n"
     ]
    }
   ],
   "source": [
    "pos2=[]\n",
    "pos2=classification_One(test_x2,Root,pos2)\n",
    "print(pos2)"
   ]
  },
  {
   "cell_type": "code",
   "execution_count": 112,
   "id": "ca8da239",
   "metadata": {},
   "outputs": [
    {
     "data": {
      "text/plain": [
       "[['种类为 1'],\n",
       " ['种类为 1'],\n",
       " ['种类为 0'],\n",
       " ['种类为 0'],\n",
       " ['种类为 1'],\n",
       " ['种类为 0'],\n",
       " ['种类为 0'],\n",
       " ['种类为 1'],\n",
       " ['种类为 1'],\n",
       " ['种类为 0']]"
      ]
     },
     "execution_count": 112,
     "metadata": {},
     "output_type": "execute_result"
    }
   ],
   "source": [
    "Classification(test_X,Root)"
   ]
  },
  {
   "cell_type": "code",
   "execution_count": 113,
   "id": "04c09fce",
   "metadata": {},
   "outputs": [
    {
     "data": {
      "text/plain": [
       "array([1, 1, 0, 0, 1, 0, 0, 1, 1, 0])"
      ]
     },
     "execution_count": 113,
     "metadata": {},
     "output_type": "execute_result"
    }
   ],
   "source": [
    "y_train"
   ]
  },
  {
   "cell_type": "markdown",
   "id": "d9c1151a",
   "metadata": {},
   "source": [
    "完成！"
   ]
  }
 ],
 "metadata": {
  "kernelspec": {
   "display_name": "Python (envtf2)",
   "language": "python",
   "name": "envtf2"
  },
  "language_info": {
   "codemirror_mode": {
    "name": "ipython",
    "version": 3
   },
   "file_extension": ".py",
   "mimetype": "text/x-python",
   "name": "python",
   "nbconvert_exporter": "python",
   "pygments_lexer": "ipython3",
   "version": "3.9.0"
  }
 },
 "nbformat": 4,
 "nbformat_minor": 5
}
