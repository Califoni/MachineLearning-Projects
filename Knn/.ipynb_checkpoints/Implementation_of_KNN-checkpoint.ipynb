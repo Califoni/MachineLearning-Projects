{
 "cells": [
  {
   "cell_type": "code",
   "execution_count": 1,
   "id": "06a5d8d7",
   "metadata": {},
   "outputs": [],
   "source": [
    "import numpy as np\n",
    "import operator\n",
    "import matplotlib.pyplot as plt"
   ]
  },
  {
   "cell_type": "code",
   "execution_count": 2,
   "id": "75e8784a",
   "metadata": {},
   "outputs": [],
   "source": [
    "def Caculate_one_Distance(x,y):\n",
    "    #计算欧氏距离\n",
    "    dis=np.sqrt(np.sum(np.square(x-y)))\n",
    "    return dis"
   ]
  },
  {
   "cell_type": "code",
   "execution_count": 3,
   "id": "98214b6f",
   "metadata": {},
   "outputs": [],
   "source": [
    "def Sort_Distance(x,train):\n",
    "    Dis=[]\n",
    "    for i in range(train.shape[0]):\n",
    "        dis=Caculate_one_Distance(train[i],x)\n",
    "        #将当前距离和对应的索引一起保存\n",
    "        Dis.append([dis,i])\n",
    "    #按照距离进行从小到大排序\n",
    "    Dis=sorted(Dis)\n",
    "    return Dis"
   ]
  },
  {
   "cell_type": "code",
   "execution_count": 4,
   "id": "3f186ec7",
   "metadata": {},
   "outputs": [],
   "source": [
    "def Knn_for_one(x,train,y,k):\n",
    "    #对单样本实现KNN\n",
    "    Dis=Sort_Distance(x,train)\n",
    "    Class=[]\n",
    "    class_count={}\n",
    "    for i in range(k):\n",
    "        #下标所对应的标签值\n",
    "        label=y[Dis[i][1]][0]\n",
    "        #将标签存入字典中并更新其个数,初始为0个\n",
    "        class_count[label]=class_count.get(label,0)+1\n",
    "        #将标签存入列表以展示\n",
    "        Class.append(label)\n",
    "        \n",
    "    #取k个结果中个数最多的作为最后的分类    \n",
    "    Max=0\n",
    "    for key,value in class_count.items():\n",
    "        if class_count[key]>Max:\n",
    "            Max=class_count[key]\n",
    "            result=key\n",
    "    return class_count,Class,result"
   ]
  },
  {
   "cell_type": "code",
   "execution_count": 5,
   "id": "d09c2772",
   "metadata": {},
   "outputs": [],
   "source": [
    "def KNN(X,train,train_label,k):\n",
    "    '''\n",
    "    X为要预测的数据集，\n",
    "    train为训练集，\n",
    "    train_label为训练集标签\n",
    "    k为最近邻的个数\n",
    "    '''\n",
    "    results=[]\n",
    "    neighbours=[]\n",
    "    for i in range(X.shape[0]):\n",
    "        class_count,Class,result=Knn_for_one(X[i],train,train_label,k)\n",
    "        results.append(result)\n",
    "        neighbours.append(Class)\n",
    "    return results,neighbours"
   ]
  },
  {
   "cell_type": "markdown",
   "id": "6db8d5bb",
   "metadata": {},
   "source": [
    "验证KNN"
   ]
  },
  {
   "cell_type": "code",
   "execution_count": 6,
   "id": "f9ec8c58",
   "metadata": {},
   "outputs": [],
   "source": [
    "trainData=np.random.randint(0,100,(25,2))\n",
    "#返回0~100之间随机整型数，范围类型为25*2的矩阵\n",
    "train_label=np.random.randint(0,2,(25,1))"
   ]
  },
  {
   "cell_type": "code",
   "execution_count": 7,
   "id": "9c520be8",
   "metadata": {},
   "outputs": [
    {
     "data": {
      "image/png": "[encoded data removed]",
      "text/plain": [
       "<Figure size 640x480 with 1 Axes>"
      ]
     },
     "metadata": {},
     "output_type": "display_data"
    }
   ],
   "source": [
    "red=trainData[train_label.ravel()==0]\n",
    "#ravel()把数组维度拉成一维行向量，即把等于0的对应序号训练数据设为红色\n",
    "plt.scatter(red[:,0],red[:,1],100,'r','^')\n",
    "\n",
    "blue=trainData[train_label.ravel()==1]\n",
    "plt.scatter(blue[:,0],blue[:,1],100,'b','s')\n",
    "plt.show()"
   ]
  },
  {
   "cell_type": "code",
   "execution_count": 8,
   "id": "19963da6",
   "metadata": {},
   "outputs": [
    {
     "data": {
      "image/png": "[encoded data removed]",
      "text/plain": [
       "<Figure size 640x480 with 1 Axes>"
      ]
     },
     "metadata": {},
     "output_type": "display_data"
    }
   ],
   "source": [
    "X=np.random.randint(0,100,(5,2))\n",
    "plt.scatter(red[:,0],red[:,1],80,'r','^')\n",
    "plt.scatter(blue[:,0],blue[:,1],80,'b','s')\n",
    "plt.scatter(X[:,0],X[:,1],80,'g','o')\n",
    "plt.show()"
   ]
  },
  {
   "cell_type": "code",
   "execution_count": 9,
   "id": "c55a9303",
   "metadata": {},
   "outputs": [
    {
     "data": {
      "text/plain": [
       "array([[11, 14],\n",
       "       [81, 46],\n",
       "       [53, 41],\n",
       "       [51,  9],\n",
       "       [73, 53]])"
      ]
     },
     "execution_count": 9,
     "metadata": {},
     "output_type": "execute_result"
    }
   ],
   "source": [
    "X"
   ]
  },
  {
   "cell_type": "code",
   "execution_count": 10,
   "id": "b738b1d1",
   "metadata": {},
   "outputs": [
    {
     "name": "stdout",
     "output_type": "stream",
     "text": [
      "result:\n",
      " [1, 0, 0, 0, 0] \n",
      "\n",
      "neighbour:\n",
      " [[1, 0, 1], [0, 0, 0], [0, 0, 1], [1, 0, 0], [0, 0, 0]] \n",
      "\n"
     ]
    }
   ],
   "source": [
    "ret,nei=KNN(X,trainData,train_label,3)\n",
    "print(\"result:\\n\",ret,\"\\n\")\n",
    "print(\"neighbour:\\n\",nei,\"\\n\")"
   ]
  },
  {
   "cell_type": "code",
   "execution_count": null,
   "id": "3d027991",
   "metadata": {},
   "outputs": [],
   "source": []
  }
 ],
 "metadata": {
  "kernelspec": {
   "display_name": "Python (envtf2)",
   "language": "python",
   "name": "envtf2"
  },
  "language_info": {
   "codemirror_mode": {
    "name": "ipython",
    "version": 3
   },
   "file_extension": ".py",
   "mimetype": "text/x-python",
   "name": "python",
   "nbconvert_exporter": "python",
   "pygments_lexer": "ipython3",
   "version": "3.9.0"
  }
 },
 "nbformat": 4,
 "nbformat_minor": 5
}
